{
 "cells": [
  {
   "cell_type": "code",
   "execution_count": 2,
   "metadata": {},
   "outputs": [],
   "source": [
    "import numpy"
   ]
  },
  {
   "cell_type": "code",
   "execution_count": 3,
   "metadata": {},
   "outputs": [
    {
     "name": "stdout",
     "output_type": "stream",
     "text": [
      "[[0 4 1]\n",
      " [1 1 1]\n",
      " [0 3 2]]\n"
     ]
    }
   ],
   "source": [
    "#输入一个矩阵(3阶)\n",
    "A = numpy.array([[0, 4, 1],[1, 1, 1],[0, 3, 2]])\n",
    "print(A)"
   ]
  },
  {
   "cell_type": "code",
   "execution_count": 4,
   "metadata": {},
   "outputs": [
    {
     "name": "stdout",
     "output_type": "stream",
     "text": [
      "a1\n",
      "[[0]\n",
      " [1]\n",
      " [0]]\n",
      "a2\n",
      "[[4]\n",
      " [1]\n",
      " [3]]\n",
      "a3\n",
      "[[1]\n",
      " [1]\n",
      " [2]]\n"
     ]
    }
   ],
   "source": [
    "a1 = numpy.array([[A[0,0]],[A[1,0]],[A[2,0]]])\n",
    "print(\"a1\")\n",
    "print(a1)\n",
    "\n",
    "a2 = numpy.array([[A[0,1]],[A[1,1]],[A[2,1]]])\n",
    "print(\"a2\")\n",
    "print(a2)\n",
    "\n",
    "a3 = numpy.array([[A[0,2]],[A[1,2]],[A[2,2]]])\n",
    "print(\"a3\")\n",
    "print(a3)"
   ]
  },
  {
   "cell_type": "code",
   "execution_count": 5,
   "metadata": {},
   "outputs": [
    {
     "name": "stdout",
     "output_type": "stream",
     "text": [
      "b1:\n",
      "[[0]\n",
      " [1]\n",
      " [0]]\n",
      "k21:\n",
      "1.0\n",
      "b2:\n",
      "[[4.]\n",
      " [0.]\n",
      " [3.]]\n",
      "k32:\n",
      "0.4\n",
      "k31:\n",
      "1.0\n",
      "b3:\n",
      "[[-0.6]\n",
      " [ 0. ]\n",
      " [ 0.8]]\n"
     ]
    }
   ],
   "source": [
    "#正交化\n",
    "b1 = a1\n",
    "print(\"b1:\")\n",
    "print(b1)\n",
    "\n",
    "k21 = (a2[0,0]*b1[0,0]+a2[1,0]*b1[1,0]+a2[2,0]*b1[2,0])/(b1[0,0]*b1[0,0]+b1[1,0]*b1[1,0]+b1[2,0]*b1[2,0])\n",
    "print(\"k21:\")\n",
    "print(k21)\n",
    "b2 = a2 - k21*b1\n",
    "print(\"b2:\")\n",
    "print(b2)\n",
    "\n",
    "k32 = (a3[0,0]*b2[0,0]+a3[1,0]*b2[1,0]+a3[2,0]*b2[2,0])/(b2[0,0]*b2[0,0]+b2[1,0]*b2[1,0]+b2[2,0]*b2[2,0])\n",
    "print(\"k32:\")\n",
    "print(k32)\n",
    "k31 = (a3[0,0]*b1[0,0]+a3[1,0]*b1[1,0]+a3[2,0]*b1[2,0])/(b1[0,0]*b1[0,0]+b1[1,0]*b1[1,0]+b1[2,0]*b1[2,0])\n",
    "print(\"k31:\")\n",
    "print(k31)\n",
    "b3 = a3 - k32*b2 - k31*b1\n",
    "print(\"b3:\")\n",
    "print(b3)\n"
   ]
  },
  {
   "cell_type": "code",
   "execution_count": 6,
   "metadata": {},
   "outputs": [
    {
     "name": "stdout",
     "output_type": "stream",
     "text": [
      "q1\n",
      "[[0.]\n",
      " [1.]\n",
      " [0.]]\n",
      "q2\n",
      "[[0.8]\n",
      " [0. ]\n",
      " [0.6]]\n",
      "q3\n",
      "[[-0.6]\n",
      " [ 0. ]\n",
      " [ 0.8]]\n"
     ]
    }
   ],
   "source": [
    "b1m = numpy.sqrt((b1**2).sum())\n",
    "q1 = numpy.array([[b1[0,0]/b1m],[b1[1,0]/b1m],[b1[2,0]/b1m]])\n",
    "print(\"q1\")\n",
    "print(q1)\n",
    "\n",
    "b2m = numpy.sqrt((b2**2).sum())\n",
    "q2 = numpy.array([[b2[0,0]/b2m],[b2[1,0]/b2m],[b2[2,0]/b2m]])\n",
    "print(\"q2\")\n",
    "print(q2)\n",
    "\n",
    "b3m = numpy.sqrt((b3**2).sum())\n",
    "q3= numpy.array([[b3[0,0]/b3m],[b3[1,0]/b2m],[b3[2,0]/b3m]])\n",
    "print(\"q3\")\n",
    "print(q3)\n"
   ]
  },
  {
   "cell_type": "code",
   "execution_count": 7,
   "metadata": {},
   "outputs": [
    {
     "name": "stdout",
     "output_type": "stream",
     "text": [
      "C:\n",
      "[[1.  1.  1. ]\n",
      " [0.  1.  0.4]\n",
      " [0.  0.  1. ]]\n"
     ]
    }
   ],
   "source": [
    "C = numpy.array([[1, k21, k31],[0, 1, k32],[0, 0, 1]])\n",
    "print(\"C:\")\n",
    "print(C)"
   ]
  },
  {
   "cell_type": "code",
   "execution_count": 8,
   "metadata": {},
   "outputs": [
    {
     "name": "stdout",
     "output_type": "stream",
     "text": [
      "D:\n",
      "[[1. 0. 0.]\n",
      " [0. 5. 0.]\n",
      " [0. 0. 1.]]\n"
     ]
    }
   ],
   "source": [
    "D = numpy.array([[b1m, 0, 0],[0, b2m, 0],[0, 0, b3m]])\n",
    "print(\"D:\")\n",
    "print(D)"
   ]
  },
  {
   "cell_type": "code",
   "execution_count": 9,
   "metadata": {},
   "outputs": [
    {
     "name": "stdout",
     "output_type": "stream",
     "text": [
      "R:\n",
      "[[1. 1. 1.]\n",
      " [0. 5. 2.]\n",
      " [0. 0. 1.]]\n"
     ]
    }
   ],
   "source": [
    "R = numpy.dot(D,C)\n",
    "print(\"R:\")\n",
    "print(R)"
   ]
  },
  {
   "cell_type": "code",
   "execution_count": 10,
   "metadata": {},
   "outputs": [
    {
     "name": "stdout",
     "output_type": "stream",
     "text": [
      "Q:\n",
      "[[ 0.   0.8 -0.6]\n",
      " [ 1.   0.   0. ]\n",
      " [ 0.   0.6  0.8]]\n"
     ]
    }
   ],
   "source": [
    "Q = numpy.array([[q1[0,0],q2[0,0],q3[0,0]],[q1[1,0],q2[1,0],q3[1,0]],[q1[2,0],q2[2,0],q3[2,0]]])\n",
    "print(\"Q:\")\n",
    "print(Q)"
   ]
  },
  {
   "cell_type": "code",
   "execution_count": 11,
   "metadata": {},
   "outputs": [
    {
     "name": "stdout",
     "output_type": "stream",
     "text": [
      "AYY:\n",
      "[[0. 4. 1.]\n",
      " [1. 1. 1.]\n",
      " [0. 3. 2.]]\n"
     ]
    }
   ],
   "source": [
    "AYY = numpy.dot(Q,R)\n",
    "print(\"AYY:\")\n",
    "print(AYY)"
   ]
  },
  {
   "cell_type": "code",
   "execution_count": null,
   "metadata": {},
   "outputs": [],
   "source": []
  },
  {
   "cell_type": "code",
   "execution_count": null,
   "metadata": {},
   "outputs": [],
   "source": []
  },
  {
   "cell_type": "code",
   "execution_count": null,
   "metadata": {},
   "outputs": [],
   "source": []
  }
 ],
 "metadata": {
  "kernelspec": {
   "display_name": "Python 3",
   "language": "python",
   "name": "python3"
  },
  "language_info": {
   "codemirror_mode": {
    "name": "ipython",
    "version": 3
   },
   "file_extension": ".py",
   "mimetype": "text/x-python",
   "name": "python",
   "nbconvert_exporter": "python",
   "pygments_lexer": "ipython3",
   "version": "3.6.5"
  }
 },
 "nbformat": 4,
 "nbformat_minor": 2
}
