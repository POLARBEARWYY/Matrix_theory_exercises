{
 "cells": [
  {
   "cell_type": "code",
   "execution_count": 1,
   "metadata": {},
   "outputs": [],
   "source": [
    "import numpy"
   ]
  },
  {
   "cell_type": "code",
   "execution_count": 2,
   "metadata": {},
   "outputs": [
    {
     "name": "stdout",
     "output_type": "stream",
     "text": [
      "[[ 0  3  1 -4]\n",
      " [ 0  4 -2  3]\n",
      " [ 2  1  2  4]\n",
      " [ 0  0  0 -5]]\n"
     ]
    }
   ],
   "source": [
    "#输入一个矩阵(4阶)\n",
    "A = numpy.array([[0,3 , 1, -4],[0, 4, -2, 3],[2, 1, 2, 4],[0, 0, 0, -5]])\n",
    "print(A)"
   ]
  },
  {
   "cell_type": "code",
   "execution_count": 3,
   "metadata": {},
   "outputs": [
    {
     "name": "stdout",
     "output_type": "stream",
     "text": [
      "[0 0 2 0]\n"
     ]
    }
   ],
   "source": [
    "b1 = numpy.array([A[0,0],A[1,0],A[2,0],A[3,0]])\n",
    "print(b1)"
   ]
  },
  {
   "cell_type": "code",
   "execution_count": 4,
   "metadata": {},
   "outputs": [
    {
     "name": "stdout",
     "output_type": "stream",
     "text": [
      "T131\n",
      "[[ 0.  0.  1.  0.]\n",
      " [ 0.  1.  0.  0.]\n",
      " [-1.  0.  0.  0.]\n",
      " [ 0.  0.  0.  1.]]\n"
     ]
    }
   ],
   "source": [
    "if A[0,0] != 0 or A[1,0] != 0 : \n",
    "    c1 = A[0,0]/(A[0,0]**2+A[1,0]**2)**0.5\n",
    "    s1 = A[1,0]/(A[0,0]**2+A[1,0]**2)**0.5\n",
    "    T121 = numpy.array([[c1, s1 , 0, 0],[-s1, c1, 0, 0],[0, 0, 1, 0],[0, 0, 0, 1]])\n",
    "    print(\"T12\")\n",
    "    print(T12)\n",
    "    \n",
    "    c2 = (A[0,0]**2+A[1,0]**2)**0.5/(A[0,0]**2+A[1,0]**2+A[2,0]**2)**0.5\n",
    "    s2 = A[2,0]/(A[0,0]**2+A[1,0]**2+A[2,0]**2)**0.5\n",
    "    T131 = numpy.array([[c2, 0 , s2, 0],[0, 1, 0, 0],[-s2, 0, c2, 0],[0, 0, 0, 1]])\n",
    "    print(\"T13\")\n",
    "    print(T13)\n",
    "    \n",
    "    \n",
    "elif (A[0,0]**2+A[1,0]**2)**0.5 != 0 or A[2,0] != 0 :\n",
    "    c2 = (A[0,0]**2+A[1,0]**2)**0.5/(A[0,0]**2+A[1,0]**2+A[2,0]**2)**0.5\n",
    "    s2 = A[2,0]/(A[0,0]**2+A[1,0]**2+A[2,0]**2)**0.5\n",
    "    T131 = numpy.array([[c2, 0 , s2, 0],[0, 1, 0, 0],[-s2, 0, c2, 0],[0, 0, 0, 1]])\n",
    "    print(\"T131\")\n",
    "    print(T131)"
   ]
  },
  {
   "cell_type": "code",
   "execution_count": 5,
   "metadata": {},
   "outputs": [
    {
     "name": "stdout",
     "output_type": "stream",
     "text": [
      "T1\n",
      "[[ 0.  0.  1.  0.]\n",
      " [ 0.  1.  0.  0.]\n",
      " [-1.  0.  0.  0.]\n",
      " [ 0.  0.  0.  1.]]\n",
      "T131(T121 b1)\n",
      "[2. 0. 0. 0.]\n"
     ]
    }
   ],
   "source": [
    "if A[0,0] != 0 or A[1,0] != 0 : \n",
    "    \n",
    "    print(\"T121 b1\")\n",
    "    print(numpy.dot(T12 ,b1))\n",
    "    print(\"T131(T12 b1)\")\n",
    "    print(numpy.dot(T131,numpy.dot(T121,b1)))    \n",
    "    T1 = numpy.dot(T121,T131)      \n",
    "    print(\"T1\")    \n",
    "    print(T1)\n",
    "    \n",
    "    \n",
    "elif(A[0,0]**2+A[1,0]**2)**0.5 != 0 or A[2,0] != 0 :\n",
    "   \n",
    "    T1 = T131\n",
    "    print(\"T1\")    \n",
    "    print(T1)\n",
    "    print(\"T131(T121 b1)\")\n",
    "    print(numpy.dot(T1,b1))\n",
    "    "
   ]
  },
  {
   "cell_type": "code",
   "execution_count": 6,
   "metadata": {},
   "outputs": [
    {
     "name": "stdout",
     "output_type": "stream",
     "text": [
      "T1 A\n",
      "[[ 2.  1.  2.  4.]\n",
      " [ 0.  4. -2.  3.]\n",
      " [ 0. -3. -1.  4.]\n",
      " [ 0.  0.  0. -5.]]\n",
      "A1\n",
      "[[ 4. -2.  3.]\n",
      " [-3. -1.  4.]\n",
      " [ 0.  0. -5.]]\n"
     ]
    }
   ],
   "source": [
    "M = numpy.dot(T1 ,A)\n",
    "print(\"T1 A\")\n",
    "print(M)\n",
    "print(\"A1\")\n",
    "A1 = numpy.array([[M[1,1],M[1,2],M[1,3]],[M[2,1],M[2,2],M[2,3]],[M[3,1],M[3,2],M[3,3]]])\n",
    "print(A1)"
   ]
  },
  {
   "cell_type": "code",
   "execution_count": 7,
   "metadata": {},
   "outputs": [
    {
     "name": "stdout",
     "output_type": "stream",
     "text": [
      "[[ 4.]\n",
      " [-3.]\n",
      " [ 0.]]\n"
     ]
    }
   ],
   "source": [
    "b2 = numpy.array([[A1[0,0]],[A1[1,0]],[A1[2,0]]])\n",
    "print(b2)"
   ]
  },
  {
   "cell_type": "code",
   "execution_count": 8,
   "metadata": {},
   "outputs": [
    {
     "name": "stdout",
     "output_type": "stream",
     "text": [
      "T122\n",
      "[[ 0.8 -0.6  0. ]\n",
      " [ 0.6  0.8  0. ]\n",
      " [ 0.   0.   1. ]]\n",
      "T122b2\n",
      "[[ 5.0000000e+00]\n",
      " [-4.4408921e-16]\n",
      " [ 0.0000000e+00]]\n",
      "T122\n",
      "[[ 0.8 -0.6  0. ]\n",
      " [ 0.6  0.8  0. ]\n",
      " [ 0.   0.   1. ]]\n"
     ]
    }
   ],
   "source": [
    "if A1[0,0] != 0 or A1[1,0] != 0 : \n",
    "    c1 = A1[0,0]/(A1[0,0]**2+A1[1,0]**2)**0.5\n",
    "    s1 = A1[1,0]/(A1[0,0]**2+A1[1,0]**2)**0.5\n",
    "    T122 = numpy.array([[c1, s1 , 0],[-s1, c1, 0],[0, 0, 1]])\n",
    "    print(\"T122\")\n",
    "    print(T122)\n",
    "\n",
    "    T122b2 = numpy.dot(T122 ,b2)\n",
    "    print(\"T122b2\")\n",
    "    print(T122b2)\n",
    "    if T122b2[1,0]<10e-6 and T122b2[2,0]<10e-6:\n",
    "        T2 = T122\n",
    "        print(\"T122\")\n",
    "        print(T122)\n",
    "    else:\n",
    "        c2 = (A1[0,0]**2+A1[1,0]**2)**0.5/(A1[0,0]**2+A1[1,0]**2+A1[2,0]**2)**0.5\n",
    "        s2 = A1[2,0]/(A1[0,0]**2+A1[1,0]**2+A1[2,0]**2)**0.5\n",
    "        T132 = numpy.array([[c2, 0 , s2],[0, 1, 0],[-s2, 0, c2]])\n",
    "        print(\"T132\")\n",
    "        print(T132)\n",
    "    \n",
    "elif (A1[0,0]**2+A1[1,0]**2)**0.5 != 0 or A1[2,0] != 0 :\n",
    "    c2 = (A1[0,0]**2+A1[1,0]**2)**0.5/(A1[0,0]**2+A1[1,0]**2+A1[2,0]**2)**0.5\n",
    "    s2 = A1[2,0]/(A1[0,0]**2+A1[1,0]**2+A1[2,0]**2)**0.5\n",
    "    T132 = numpy.array([[c2, 0 , s2],[0, 1, 0],[-s2, 0, c2],])\n",
    "    print(\"T132\")\n",
    "    print(T132)"
   ]
  },
  {
   "cell_type": "code",
   "execution_count": 9,
   "metadata": {},
   "outputs": [
    {
     "name": "stdout",
     "output_type": "stream",
     "text": [
      "T122b2\n",
      "[[ 5.0000000e+00]\n",
      " [-4.4408921e-16]\n",
      " [ 0.0000000e+00]]\n",
      "T2\n",
      "[[ 0.8 -0.6  0. ]\n",
      " [ 0.6  0.8  0. ]\n",
      " [ 0.   0.   1. ]]\n"
     ]
    }
   ],
   "source": [
    "if A1[0,0] != 0 or A1[1,0] != 0 : \n",
    "    T122b2 = numpy.dot(T122 ,b2)\n",
    "    print(\"T122b2\")\n",
    "    print(numpy.dot(T122 ,b2))\n",
    "    \n",
    "    if T122b2[1,0]<10e-6 and T122b2[2,0]<10e-6:\n",
    "        T2 = T122\n",
    "        print(\"T2\")\n",
    "        print(T122)\n",
    "    else:\n",
    "        c2 = (A1[0,0]**2+A1[1,0]**2)**0.5/(A1[0,0]**2+A1[1,0]**2+A1[2,0]**2)**0.5\n",
    "        s2 = A1[2,0]/(A1[0,0]**2+A1[1,0]**2+A1[2,0]**2)**0.5\n",
    "        T132 = numpy.array([[c2, 0 , s2],[0, 1, 0],[-s2, 0, c2]])\n",
    "        print(\"T132\")\n",
    "        print(T132)\n",
    "        T2 = numpy.dot(T122,T132)\n",
    "        print(\"T2\")    \n",
    "        print(T2)\n",
    "    \n",
    "elif(A1[0,0]**2+A1[1,0]**2)**0.5 != 0 or A1[2,0] != 0 :\n",
    "    T2 = T122\n",
    "    print(\"T2\")    \n",
    "    print(T2)\n",
    "    \n",
    "    \n",
    "    "
   ]
  },
  {
   "cell_type": "code",
   "execution_count": 10,
   "metadata": {},
   "outputs": [
    {
     "name": "stdout",
     "output_type": "stream",
     "text": [
      "T2 A1\n",
      "[[ 5.0000000e+00 -1.0000000e+00  4.4408921e-16]\n",
      " [-4.4408921e-16 -2.0000000e+00  5.0000000e+00]\n",
      " [ 0.0000000e+00  0.0000000e+00 -5.0000000e+00]]\n"
     ]
    }
   ],
   "source": [
    "N = numpy.dot(T2 ,A1)\n",
    "print(\"T2 A1\")\n",
    "print(N)"
   ]
  },
  {
   "cell_type": "code",
   "execution_count": 11,
   "metadata": {},
   "outputs": [
    {
     "name": "stdout",
     "output_type": "stream",
     "text": [
      "[[ 0.   0.   1.   0. ]\n",
      " [ 0.6  0.8  0.   0. ]\n",
      " [-0.8  0.6  0.   0. ]\n",
      " [ 0.   0.   0.   1. ]]\n"
     ]
    }
   ],
   "source": [
    "T = numpy.dot([[1, 0, 0, 0],[0,T2[0,0],T2[0,1],T2[0,2]],[0,T2[1,0],T2[1,1],T2[1,2]],[0,T2[2,0],T2[2,1],T2[2,2]]],T1)\n",
    "print(T)"
   ]
  },
  {
   "cell_type": "code",
   "execution_count": 12,
   "metadata": {},
   "outputs": [
    {
     "name": "stdout",
     "output_type": "stream",
     "text": [
      "[[ 0.   0.6 -0.8  0. ]\n",
      " [ 0.   0.8  0.6  0. ]\n",
      " [ 1.   0.   0.   0. ]\n",
      " [ 0.   0.   0.   1. ]]\n"
     ]
    }
   ],
   "source": [
    "Q = T.T\n",
    "print(Q)"
   ]
  },
  {
   "cell_type": "code",
   "execution_count": 13,
   "metadata": {},
   "outputs": [
    {
     "name": "stdout",
     "output_type": "stream",
     "text": [
      "[[ 2.0000000e+00  1.0000000e+00  2.0000000e+00  4.0000000e+00]\n",
      " [ 0.0000000e+00  5.0000000e+00 -1.0000000e+00  4.4408921e-16]\n",
      " [ 0.0000000e+00 -4.4408921e-16 -2.0000000e+00  5.0000000e+00]\n",
      " [ 0.0000000e+00  0.0000000e+00  0.0000000e+00 -5.0000000e+00]]\n"
     ]
    }
   ],
   "source": [
    "R = numpy.array([[M[0,0],M[0,1],M[0,2],M[0,3]],[0, N[0,0],N[0,1],N[0,2]],[0, N[1,0],N[1,1],N[1,2]],[0, N[2,0],N[2,1],N[2,2]]])\n",
    "print(R)"
   ]
  },
  {
   "cell_type": "code",
   "execution_count": 14,
   "metadata": {},
   "outputs": [
    {
     "name": "stdout",
     "output_type": "stream",
     "text": [
      "[[ 0.  3.  1. -4.]\n",
      " [ 0.  4. -2.  3.]\n",
      " [ 2.  1.  2.  4.]\n",
      " [ 0.  0.  0. -5.]]\n"
     ]
    }
   ],
   "source": [
    "A = numpy.dot(Q,R)\n",
    "print(A)"
   ]
  },
  {
   "cell_type": "code",
   "execution_count": null,
   "metadata": {},
   "outputs": [],
   "source": []
  }
 ],
 "metadata": {
  "kernelspec": {
   "display_name": "Python 3",
   "language": "python",
   "name": "python3"
  },
  "language_info": {
   "codemirror_mode": {
    "name": "ipython",
    "version": 3
   },
   "file_extension": ".py",
   "mimetype": "text/x-python",
   "name": "python",
   "nbconvert_exporter": "python",
   "pygments_lexer": "ipython3",
   "version": "3.6.5"
  }
 },
 "nbformat": 4,
 "nbformat_minor": 2
}
