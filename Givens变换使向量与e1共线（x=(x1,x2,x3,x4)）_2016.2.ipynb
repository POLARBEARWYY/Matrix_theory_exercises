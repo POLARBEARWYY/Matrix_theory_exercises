{
 "cells": [
  {
   "cell_type": "code",
   "execution_count": 2,
   "metadata": {},
   "outputs": [],
   "source": [
    "import numpy"
   ]
  },
  {
   "cell_type": "code",
   "execution_count": 3,
   "metadata": {},
   "outputs": [
    {
     "name": "stdout",
     "output_type": "stream",
     "text": [
      "[[1]\n",
      " [0]\n",
      " [0]\n",
      " [0]]\n"
     ]
    }
   ],
   "source": [
    "e1 = numpy.array([[1],[0],[0],[0]])\n",
    "print(e1)"
   ]
  },
  {
   "cell_type": "code",
   "execution_count": 4,
   "metadata": {},
   "outputs": [
    {
     "name": "stdout",
     "output_type": "stream",
     "text": [
      "[[2]\n",
      " [3]\n",
      " [0]\n",
      " [5]]\n"
     ]
    }
   ],
   "source": [
    "x = numpy.array([[2],[3],[0],[5]])\n",
    "print(x)"
   ]
  },
  {
   "cell_type": "code",
   "execution_count": 5,
   "metadata": {},
   "outputs": [
    {
     "name": "stdout",
     "output_type": "stream",
     "text": [
      "T12\n",
      "[[ 0.5547002   0.83205029  0.          0.        ]\n",
      " [-0.83205029  0.5547002   0.          0.        ]\n",
      " [ 0.          0.          1.          0.        ]\n",
      " [ 0.          0.          0.          1.        ]]\n"
     ]
    }
   ],
   "source": [
    "c1 = x[0,0]/(x[0,0]**2+x[1,0]**2)**0.5\n",
    "s1 = x[1,0]/(x[0,0]**2+x[1,0]**2)**0.5\n",
    "T12 = numpy.array([[c1, s1 , 0, 0],[-s1, c1, 0, 0],[0, 0, 1, 0],[0, 0, 0, 1]])\n",
    "print(\"T12\")\n",
    "print(T12)"
   ]
  },
  {
   "cell_type": "code",
   "execution_count": 6,
   "metadata": {},
   "outputs": [
    {
     "name": "stdout",
     "output_type": "stream",
     "text": [
      "[[3.60555128]\n",
      " [0.        ]\n",
      " [0.        ]\n",
      " [5.        ]]\n"
     ]
    }
   ],
   "source": [
    "T12x = numpy.dot(T12,x) \n",
    "print(T12x)"
   ]
  },
  {
   "cell_type": "code",
   "execution_count": 7,
   "metadata": {},
   "outputs": [
    {
     "name": "stdout",
     "output_type": "stream",
     "text": [
      "T13\n",
      "[[ 1.  0.  0.  0.]\n",
      " [ 0.  1.  0.  0.]\n",
      " [-0.  0.  1.  0.]\n",
      " [ 0.  0.  0.  1.]]\n"
     ]
    }
   ],
   "source": [
    "c2 = (x[0,0]**2+x[1,0]**2)**0.5/(x[0,0]**2+x[1,0]**2+x[2,0]**2)**0.5\n",
    "s2 = x[2,0]/(x[0,0]**2+x[1,0]**2+x[2,0]**2)**0.5\n",
    "T13 = numpy.array([[c2, 0 , s2, 0],[0, 1, 0, 0],[-s2, 0, c2, 0],[0, 0, 0, 1]])\n",
    "print(\"T13\")\n",
    "print(T13)"
   ]
  },
  {
   "cell_type": "code",
   "execution_count": 8,
   "metadata": {},
   "outputs": [
    {
     "name": "stdout",
     "output_type": "stream",
     "text": [
      "[[3.60555128]\n",
      " [0.        ]\n",
      " [0.        ]\n",
      " [5.        ]]\n"
     ]
    }
   ],
   "source": [
    "T13x = numpy.dot(T13,T12x) \n",
    "print(T13x)"
   ]
  },
  {
   "cell_type": "code",
   "execution_count": 9,
   "metadata": {},
   "outputs": [
    {
     "name": "stdout",
     "output_type": "stream",
     "text": [
      "T14\n",
      "[[ 0.58489765  0.          0.          0.81110711]\n",
      " [ 0.          1.          0.          0.        ]\n",
      " [ 0.          0.          1.          0.        ]\n",
      " [-0.81110711  0.          0.          0.58489765]]\n"
     ]
    }
   ],
   "source": [
    "c3 = (x[0,0]**2+x[1,0]**2+x[2,0]**2)**0.5/(x[0,0]**2+x[1,0]**2+x[2,0]**2+x[3,0]**2)**0.5\n",
    "s3 = x[3,0]/(x[0,0]**2+x[1,0]**2+x[2,0]**2+x[3,0]**2)**0.5\n",
    "T14 = numpy.array([[c3, 0 , 0, s3],[0, 1, 0, 0],[0, 0, 1, 0],[-s3, 0, 0, c3]])\n",
    "print(\"T14\")\n",
    "print(T14)"
   ]
  },
  {
   "cell_type": "code",
   "execution_count": 10,
   "metadata": {},
   "outputs": [
    {
     "name": "stdout",
     "output_type": "stream",
     "text": [
      "[[ 6.1644140e+00]\n",
      " [ 0.0000000e+00]\n",
      " [ 0.0000000e+00]\n",
      " [-4.4408921e-16]]\n"
     ]
    }
   ],
   "source": [
    "T14x = numpy.dot(T14,T13x) \n",
    "print(T14x)"
   ]
  },
  {
   "cell_type": "code",
   "execution_count": 17,
   "metadata": {},
   "outputs": [
    {
     "name": "stdout",
     "output_type": "stream",
     "text": [
      "T14 T13:\n",
      "[[ 0.58489765  0.          0.          0.81110711]\n",
      " [ 0.          1.          0.          0.        ]\n",
      " [ 0.          0.          1.          0.        ]\n",
      " [-0.81110711  0.          0.          0.58489765]]\n",
      "T:\n",
      "[[ 0.32444284  0.48666426  0.          0.81110711]\n",
      " [-0.83205029  0.5547002   0.          0.        ]\n",
      " [ 0.          0.          1.          0.        ]\n",
      " [-0.44992127 -0.67488191  0.          0.58489765]]\n"
     ]
    }
   ],
   "source": [
    "T = numpy.dot(T14,numpy.dot(T13,T12))\n",
    "print(\"T14 T13:\")\n",
    "print(numpy.dot(T14,T13))\n",
    "print(\"T:\")\n",
    "print(T)"
   ]
  },
  {
   "cell_type": "code",
   "execution_count": 14,
   "metadata": {},
   "outputs": [
    {
     "name": "stdout",
     "output_type": "stream",
     "text": [
      "[[6.164414]\n",
      " [     nan]\n",
      " [     nan]\n",
      " [    -inf]]\n"
     ]
    },
    {
     "name": "stderr",
     "output_type": "stream",
     "text": [
      "C:\\Users\\WYY\\Anaconda3\\lib\\site-packages\\ipykernel_launcher.py:1: RuntimeWarning: divide by zero encountered in true_divide\n",
      "  \"\"\"Entry point for launching an IPython kernel.\n",
      "C:\\Users\\WYY\\Anaconda3\\lib\\site-packages\\ipykernel_launcher.py:1: RuntimeWarning: invalid value encountered in true_divide\n",
      "  \"\"\"Entry point for launching an IPython kernel.\n"
     ]
    }
   ],
   "source": [
    "a = numpy.dot(T,x)/e1\n",
    "print(a)"
   ]
  },
  {
   "cell_type": "code",
   "execution_count": null,
   "metadata": {},
   "outputs": [],
   "source": []
  },
  {
   "cell_type": "code",
   "execution_count": null,
   "metadata": {},
   "outputs": [],
   "source": []
  },
  {
   "cell_type": "code",
   "execution_count": null,
   "metadata": {},
   "outputs": [],
   "source": []
  }
 ],
 "metadata": {
  "kernelspec": {
   "display_name": "Python 3",
   "language": "python",
   "name": "python3"
  },
  "language_info": {
   "codemirror_mode": {
    "name": "ipython",
    "version": 3
   },
   "file_extension": ".py",
   "mimetype": "text/x-python",
   "name": "python",
   "nbconvert_exporter": "python",
   "pygments_lexer": "ipython3",
   "version": "3.6.5"
  }
 },
 "nbformat": 4,
 "nbformat_minor": 2
}
