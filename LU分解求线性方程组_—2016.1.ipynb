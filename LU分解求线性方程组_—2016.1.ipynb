{
 "cells": [
  {
   "cell_type": "code",
   "execution_count": 1,
   "metadata": {},
   "outputs": [],
   "source": [
    "import numpy"
   ]
  },
  {
   "cell_type": "code",
   "execution_count": 2,
   "metadata": {},
   "outputs": [
    {
     "name": "stdout",
     "output_type": "stream",
     "text": [
      "[[ 2 -1  3]\n",
      " [ 1  2  1]\n",
      " [ 2  4  3]]\n"
     ]
    }
   ],
   "source": [
    "#输入一个矩阵(3阶)\n",
    "A = numpy.array([[2, -1 , 3],[1, 2, 1],[2, 4, 3]])\n",
    "print(A)"
   ]
  },
  {
   "cell_type": "code",
   "execution_count": 3,
   "metadata": {},
   "outputs": [
    {
     "name": "stdout",
     "output_type": "stream",
     "text": [
      "[[-3]\n",
      " [ 4]\n",
      " [ 7]]\n"
     ]
    }
   ],
   "source": [
    "b = numpy.array([[-3], [4] , [7]])\n",
    "print(b)"
   ]
  },
  {
   "cell_type": "code",
   "execution_count": 4,
   "metadata": {},
   "outputs": [
    {
     "name": "stdout",
     "output_type": "stream",
     "text": [
      "L1:\n",
      "[[1.  0.  0. ]\n",
      " [0.5 1.  0. ]\n",
      " [1.  0.  1. ]]\n",
      "L1_:\n",
      "[[ 1.   0.   0. ]\n",
      " [-0.5  1.   0. ]\n",
      " [-1.   0.   1. ]]\n"
     ]
    }
   ],
   "source": [
    "#构造矩阵L1\n",
    "L1 = numpy.array([[1, 0 , 0],[A[1,0]/A[0,0], 1, 0],[A[2,0]/A[0,0], 0, 1]])\n",
    "print(\"L1:\")\n",
    "print(L1)\n",
    "L1_ = numpy.array([[1, 0 , 0],[A[1,0]/-A[0,0], 1, 0],[A[2,0]/-A[0,0], 0, 1]])\n",
    "print(\"L1_:\")\n",
    "print(L1_)"
   ]
  },
  {
   "cell_type": "code",
   "execution_count": 5,
   "metadata": {},
   "outputs": [
    {
     "name": "stdout",
     "output_type": "stream",
     "text": [
      "A1\n",
      "[[ 2.  -1.   3. ]\n",
      " [ 0.   2.5 -0.5]\n",
      " [ 0.   5.   0. ]]\n"
     ]
    }
   ],
   "source": [
    "A1 = numpy.dot(L1_, A)\n",
    "print(\"A1\")\n",
    "print(A1)"
   ]
  },
  {
   "cell_type": "code",
   "execution_count": 6,
   "metadata": {},
   "outputs": [
    {
     "name": "stdout",
     "output_type": "stream",
     "text": [
      "L2:\n",
      "[[1. 0. 0.]\n",
      " [0. 1. 0.]\n",
      " [0. 2. 1.]]\n",
      "L2_:\n",
      "[[ 1.  0.  0.]\n",
      " [ 0.  1.  0.]\n",
      " [ 0. -2.  1.]]\n"
     ]
    }
   ],
   "source": [
    "#构造矩阵L2\n",
    "L2 = numpy.array([[1, 0 , 0],[0, 1, 0],[0, A1[2,1]/A1[1,1], 1]])\n",
    "print(\"L2:\")\n",
    "print(L2)\n",
    "L2_ = numpy.array([[1, 0 , 0],[0, 1, 0],[0, -A1[2,1]/A1[1,1], 1]])\n",
    "print(\"L2_:\")\n",
    "print(L2_)"
   ]
  },
  {
   "cell_type": "code",
   "execution_count": 7,
   "metadata": {},
   "outputs": [
    {
     "name": "stdout",
     "output_type": "stream",
     "text": [
      "U\n",
      "[[ 2.  -1.   3. ]\n",
      " [ 0.   2.5 -0.5]\n",
      " [ 0.   0.   1. ]]\n"
     ]
    }
   ],
   "source": [
    "U = numpy.dot(L2_, A1)\n",
    "print(\"U\")\n",
    "print(U)"
   ]
  },
  {
   "cell_type": "code",
   "execution_count": 8,
   "metadata": {},
   "outputs": [
    {
     "name": "stdout",
     "output_type": "stream",
     "text": [
      "L\n",
      "[[1.  0.  0. ]\n",
      " [0.5 1.  0. ]\n",
      " [1.  2.  1. ]]\n"
     ]
    }
   ],
   "source": [
    "L = numpy.dot(L1, L2)\n",
    "print(\"L\")\n",
    "print(L)"
   ]
  },
  {
   "cell_type": "code",
   "execution_count": 9,
   "metadata": {},
   "outputs": [
    {
     "name": "stdout",
     "output_type": "stream",
     "text": [
      "[[ 2. -1.  3.]\n",
      " [ 1.  2.  1.]\n",
      " [ 2.  4.  3.]]\n"
     ]
    }
   ],
   "source": [
    "A = numpy.dot(L,U)\n",
    "print(A)"
   ]
  },
  {
   "cell_type": "code",
   "execution_count": 10,
   "metadata": {},
   "outputs": [
    {
     "name": "stdout",
     "output_type": "stream",
     "text": [
      "[[ 1.   0.   0. ]\n",
      " [-0.5  1.   0. ]\n",
      " [-0.  -2.   1. ]]\n",
      "[[1. 0. 0.]\n",
      " [0. 1. 0.]\n",
      " [0. 0. 1.]]\n",
      "[[-3. ]\n",
      " [ 5.5]\n",
      " [-1. ]]\n"
     ]
    }
   ],
   "source": [
    "L_ = numpy.linalg.inv(L)\n",
    "print(L_)\n",
    "print(numpy.dot(L_, L))\n",
    "y = numpy.dot(L_, b)\n",
    "print(y)"
   ]
  },
  {
   "cell_type": "code",
   "execution_count": 11,
   "metadata": {},
   "outputs": [
    {
     "name": "stdout",
     "output_type": "stream",
     "text": [
      "[[ 0.5  0.2 -1.4]\n",
      " [ 0.   0.4  0.2]\n",
      " [ 0.   0.   1. ]]\n",
      "[[1. 0. 0.]\n",
      " [0. 1. 0.]\n",
      " [0. 0. 1.]]\n",
      "[[ 1.]\n",
      " [ 2.]\n",
      " [-1.]]\n"
     ]
    }
   ],
   "source": [
    "U_ = numpy.linalg.inv(U)\n",
    "print(U_)\n",
    "print(numpy.dot(U_, U))\n",
    "x = numpy.dot(U_, y)\n",
    "print(x)"
   ]
  },
  {
   "cell_type": "code",
   "execution_count": 12,
   "metadata": {},
   "outputs": [
    {
     "name": "stdout",
     "output_type": "stream",
     "text": [
      "[[-3.]\n",
      " [ 4.]\n",
      " [ 7.]]\n"
     ]
    }
   ],
   "source": [
    "print(numpy.dot(L,y))"
   ]
  },
  {
   "cell_type": "code",
   "execution_count": 13,
   "metadata": {},
   "outputs": [
    {
     "name": "stdout",
     "output_type": "stream",
     "text": [
      "[[-3. ]\n",
      " [ 5.5]\n",
      " [-1. ]]\n"
     ]
    }
   ],
   "source": [
    "print(numpy.dot(U,x))"
   ]
  },
  {
   "cell_type": "code",
   "execution_count": 14,
   "metadata": {},
   "outputs": [
    {
     "name": "stdout",
     "output_type": "stream",
     "text": [
      "[[-3.]\n",
      " [ 4.]\n",
      " [ 7.]]\n"
     ]
    }
   ],
   "source": [
    "print(numpy.dot(A,x))"
   ]
  },
  {
   "cell_type": "code",
   "execution_count": null,
   "metadata": {},
   "outputs": [],
   "source": []
  }
 ],
 "metadata": {
  "kernelspec": {
   "display_name": "Python 3",
   "language": "python",
   "name": "python3"
  },
  "language_info": {
   "codemirror_mode": {
    "name": "ipython",
    "version": 3
   },
   "file_extension": ".py",
   "mimetype": "text/x-python",
   "name": "python",
   "nbconvert_exporter": "python",
   "pygments_lexer": "ipython3",
   "version": "3.6.5"
  }
 },
 "nbformat": 4,
 "nbformat_minor": 2
}
