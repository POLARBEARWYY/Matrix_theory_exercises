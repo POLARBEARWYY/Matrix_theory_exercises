{
 "cells": [
  {
   "cell_type": "code",
   "execution_count": 1,
   "metadata": {},
   "outputs": [],
   "source": [
    "import numpy"
   ]
  },
  {
   "cell_type": "code",
   "execution_count": 2,
   "metadata": {},
   "outputs": [
    {
     "name": "stdout",
     "output_type": "stream",
     "text": [
      "[[ 3 14  9]\n",
      " [ 6 43  3]\n",
      " [ 6 22 15]]\n"
     ]
    }
   ],
   "source": [
    "#输入一个矩阵(3阶)\n",
    "A = numpy.array([[3, 14, 9],[6, 43, 3],[6, 22, 15]])\n",
    "print(A)"
   ]
  },
  {
   "cell_type": "code",
   "execution_count": 12,
   "metadata": {},
   "outputs": [
    {
     "name": "stdout",
     "output_type": "stream",
     "text": [
      "[[ 26]\n",
      " [-23]\n",
      " [ 55]]\n"
     ]
    }
   ],
   "source": [
    "b = numpy.array([[26], [-23] , [55]])\n",
    "print(b)"
   ]
  },
  {
   "cell_type": "code",
   "execution_count": 3,
   "metadata": {},
   "outputs": [
    {
     "name": "stdout",
     "output_type": "stream",
     "text": [
      "a1\n",
      "[[3]\n",
      " [6]\n",
      " [6]]\n",
      "a2\n",
      "[[14]\n",
      " [43]\n",
      " [22]]\n",
      "a3\n",
      "[[ 9]\n",
      " [ 3]\n",
      " [15]]\n"
     ]
    }
   ],
   "source": [
    "a1 = numpy.array([[A[0,0]],[A[1,0]],[A[2,0]]])\n",
    "print(\"a1\")\n",
    "print(a1)\n",
    "\n",
    "a2 = numpy.array([[A[0,1]],[A[1,1]],[A[2,1]]])\n",
    "print(\"a2\")\n",
    "print(a2)\n",
    "\n",
    "a3 = numpy.array([[A[0,2]],[A[1,2]],[A[2,2]]])\n",
    "print(\"a3\")\n",
    "print(a3)"
   ]
  },
  {
   "cell_type": "code",
   "execution_count": 4,
   "metadata": {},
   "outputs": [
    {
     "name": "stdout",
     "output_type": "stream",
     "text": [
      "b1:\n",
      "[[3]\n",
      " [6]\n",
      " [6]]\n",
      "k21:\n",
      "5.333333333333333\n",
      "b2:\n",
      "[[ -2.]\n",
      " [ 11.]\n",
      " [-10.]]\n",
      "k32:\n",
      "-0.6\n",
      "k31:\n",
      "1.6666666666666667\n",
      "b3:\n",
      "[[ 2.8]\n",
      " [-0.4]\n",
      " [-1. ]]\n"
     ]
    }
   ],
   "source": [
    "#正交化\n",
    "b1 = a1\n",
    "print(\"b1:\")\n",
    "print(b1)\n",
    "\n",
    "k21 = (a2[0,0]*b1[0,0]+a2[1,0]*b1[1,0]+a2[2,0]*b1[2,0])/(b1[0,0]*b1[0,0]+b1[1,0]*b1[1,0]+b1[2,0]*b1[2,0])\n",
    "print(\"k21:\")\n",
    "print(k21)\n",
    "b2 = a2 - k21*b1\n",
    "print(\"b2:\")\n",
    "print(b2)\n",
    "\n",
    "k32 = (a3[0,0]*b2[0,0]+a3[1,0]*b2[1,0]+a3[2,0]*b2[2,0])/(b2[0,0]*b2[0,0]+b2[1,0]*b2[1,0]+b2[2,0]*b2[2,0])\n",
    "print(\"k32:\")\n",
    "print(k32)\n",
    "k31 = (a3[0,0]*b1[0,0]+a3[1,0]*b1[1,0]+a3[2,0]*b1[2,0])/(b1[0,0]*b1[0,0]+b1[1,0]*b1[1,0]+b1[2,0]*b1[2,0])\n",
    "print(\"k31:\")\n",
    "print(k31)\n",
    "b3 = a3 - k32*b2 - k31*b1\n",
    "print(\"b3:\")\n",
    "print(b3)\n"
   ]
  },
  {
   "cell_type": "code",
   "execution_count": 5,
   "metadata": {},
   "outputs": [
    {
     "name": "stdout",
     "output_type": "stream",
     "text": [
      "q1\n",
      "[[0.33333333]\n",
      " [0.66666667]\n",
      " [0.66666667]]\n",
      "q2\n",
      "[[-0.13333333]\n",
      " [ 0.73333333]\n",
      " [-0.66666667]]\n",
      "q3\n",
      "[[ 0.93333333]\n",
      " [-0.02666667]\n",
      " [-0.33333333]]\n"
     ]
    }
   ],
   "source": [
    "b1m = numpy.sqrt((b1**2).sum())\n",
    "q1 = numpy.array([[b1[0,0]/b1m],[b1[1,0]/b1m],[b1[2,0]/b1m]])\n",
    "print(\"q1\")\n",
    "print(q1)\n",
    "\n",
    "b2m = numpy.sqrt((b2**2).sum())\n",
    "q2 = numpy.array([[b2[0,0]/b2m],[b2[1,0]/b2m],[b2[2,0]/b2m]])\n",
    "print(\"q2\")\n",
    "print(q2)\n",
    "\n",
    "b3m = numpy.sqrt((b3**2).sum())\n",
    "q3= numpy.array([[b3[0,0]/b3m],[b3[1,0]/b2m],[b3[2,0]/b3m]])\n",
    "print(\"q3\")\n",
    "print(q3)\n"
   ]
  },
  {
   "cell_type": "code",
   "execution_count": 6,
   "metadata": {},
   "outputs": [
    {
     "name": "stdout",
     "output_type": "stream",
     "text": [
      "C:\n",
      "[[ 1.          5.33333333  1.66666667]\n",
      " [ 0.          1.         -0.6       ]\n",
      " [ 0.          0.          1.        ]]\n"
     ]
    }
   ],
   "source": [
    "C = numpy.array([[1, k21, k31],[0, 1, k32],[0, 0, 1]])\n",
    "print(\"C:\")\n",
    "print(C)"
   ]
  },
  {
   "cell_type": "code",
   "execution_count": 7,
   "metadata": {},
   "outputs": [
    {
     "name": "stdout",
     "output_type": "stream",
     "text": [
      "D:\n",
      "[[ 9.  0.  0.]\n",
      " [ 0. 15.  0.]\n",
      " [ 0.  0.  3.]]\n"
     ]
    }
   ],
   "source": [
    "D = numpy.array([[b1m, 0, 0],[0, b2m, 0],[0, 0, b3m]])\n",
    "print(\"D:\")\n",
    "print(D)"
   ]
  },
  {
   "cell_type": "code",
   "execution_count": 8,
   "metadata": {},
   "outputs": [
    {
     "name": "stdout",
     "output_type": "stream",
     "text": [
      "R:\n",
      "[[ 9. 48. 15.]\n",
      " [ 0. 15. -9.]\n",
      " [ 0.  0.  3.]]\n"
     ]
    }
   ],
   "source": [
    "R = numpy.dot(D,C)\n",
    "print(\"R:\")\n",
    "print(R)"
   ]
  },
  {
   "cell_type": "code",
   "execution_count": 9,
   "metadata": {},
   "outputs": [
    {
     "name": "stdout",
     "output_type": "stream",
     "text": [
      "Q:\n",
      "[[ 0.33333333 -0.13333333  0.93333333]\n",
      " [ 0.66666667  0.73333333 -0.02666667]\n",
      " [ 0.66666667 -0.66666667 -0.33333333]]\n"
     ]
    }
   ],
   "source": [
    "Q = numpy.array([[q1[0,0],q2[0,0],q3[0,0]],[q1[1,0],q2[1,0],q3[1,0]],[q1[2,0],q2[2,0],q3[2,0]]])\n",
    "print(\"Q:\")\n",
    "print(Q)"
   ]
  },
  {
   "cell_type": "code",
   "execution_count": 10,
   "metadata": {},
   "outputs": [
    {
     "name": "stdout",
     "output_type": "stream",
     "text": [
      "AYY:\n",
      "[[ 3.   14.    9.  ]\n",
      " [ 6.   43.    3.32]\n",
      " [ 6.   22.   15.  ]]\n"
     ]
    }
   ],
   "source": [
    "AYY = numpy.dot(Q,R)\n",
    "print(\"AYY:\")\n",
    "print(AYY)"
   ]
  },
  {
   "cell_type": "code",
   "execution_count": 14,
   "metadata": {},
   "outputs": [
    {
     "name": "stdout",
     "output_type": "stream",
     "text": [
      "[[ 0.26600541  0.67628494  0.69071235]\n",
      " [-0.20739405  0.74391344 -0.64021641]\n",
      " [ 0.94679892 -0.13525699 -0.33814247]]\n",
      "[[ 1.00000000e+00 -1.14459422e-17  4.97881801e-17]\n",
      " [ 2.36927667e-17  1.00000000e+00 -1.18463833e-17]\n",
      " [-5.98993186e-18  5.98993186e-18  1.00000000e+00]]\n",
      "y:\n",
      "[[ 29.35076646]\n",
      " [-57.7141569 ]\n",
      " [  9.12984671]]\n"
     ]
    }
   ],
   "source": [
    "Q_ = numpy.linalg.inv(Q)\n",
    "print(Q_)\n",
    "print(numpy.dot(Q_, Q))\n",
    "y = numpy.dot(Q_, b)\n",
    "print(\"y:\")\n",
    "print(y)"
   ]
  },
  {
   "cell_type": "code",
   "execution_count": 15,
   "metadata": {},
   "outputs": [
    {
     "name": "stdout",
     "output_type": "stream",
     "text": [
      "[[ 0.11111111 -0.35555556 -1.62222222]\n",
      " [ 0.          0.06666667  0.2       ]\n",
      " [ 0.          0.          0.33333333]]\n",
      "[[ 1.00000000e+00 -8.88178420e-16 -2.22044605e-16]\n",
      " [ 0.00000000e+00  1.00000000e+00  5.55111512e-17]\n",
      " [ 0.00000000e+00  0.00000000e+00  1.00000000e+00]]\n",
      "x:\n",
      "[[ 8.97114518]\n",
      " [-2.02164112]\n",
      " [ 3.04328224]]\n"
     ]
    }
   ],
   "source": [
    "R_ = numpy.linalg.inv(R)\n",
    "print(R_)\n",
    "print(numpy.dot(R_, R))\n",
    "x = numpy.dot(R_, y)\n",
    "print(\"x:\")\n",
    "print(x)"
   ]
  },
  {
   "cell_type": "code",
   "execution_count": 17,
   "metadata": {},
   "outputs": [
    {
     "name": "stdout",
     "output_type": "stream",
     "text": [
      "b:\n",
      "[[ 26.]\n",
      " [-23.]\n",
      " [ 55.]]\n"
     ]
    }
   ],
   "source": [
    "print(\"b:\")\n",
    "print(numpy.dot(Q,y))"
   ]
  },
  {
   "cell_type": "code",
   "execution_count": 18,
   "metadata": {},
   "outputs": [
    {
     "name": "stdout",
     "output_type": "stream",
     "text": [
      "y:\n",
      "[[ 29.35076646]\n",
      " [-57.7141569 ]\n",
      " [  9.12984671]]\n"
     ]
    }
   ],
   "source": [
    "print(\"y:\")\n",
    "print(numpy.dot(R,x))"
   ]
  },
  {
   "cell_type": "code",
   "execution_count": 20,
   "metadata": {},
   "outputs": [
    {
     "name": "stdout",
     "output_type": "stream",
     "text": [
      "b:\n",
      "[[ 26.        ]\n",
      " [-23.97385032]\n",
      " [ 55.        ]]\n"
     ]
    }
   ],
   "source": [
    "print(\"b:\")\n",
    "print(numpy.dot(A,x))"
   ]
  },
  {
   "cell_type": "code",
   "execution_count": null,
   "metadata": {},
   "outputs": [],
   "source": []
  }
 ],
 "metadata": {
  "kernelspec": {
   "display_name": "Python 3",
   "language": "python",
   "name": "python3"
  },
  "language_info": {
   "codemirror_mode": {
    "name": "ipython",
    "version": 3
   },
   "file_extension": ".py",
   "mimetype": "text/x-python",
   "name": "python",
   "nbconvert_exporter": "python",
   "pygments_lexer": "ipython3",
   "version": "3.6.5"
  }
 },
 "nbformat": 4,
 "nbformat_minor": 2
}
