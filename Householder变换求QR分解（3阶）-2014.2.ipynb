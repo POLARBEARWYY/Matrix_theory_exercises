{
 "cells": [
  {
   "cell_type": "code",
   "execution_count": 1,
   "metadata": {},
   "outputs": [],
   "source": [
    "import numpy"
   ]
  },
  {
   "cell_type": "code",
   "execution_count": 2,
   "metadata": {},
   "outputs": [
    {
     "name": "stdout",
     "output_type": "stream",
     "text": [
      "[[1]\n",
      " [0]\n",
      " [0]]\n"
     ]
    }
   ],
   "source": [
    "e3 = numpy.array([[1],[0],[0]])\n",
    "print(e3)"
   ]
  },
  {
   "cell_type": "code",
   "execution_count": 3,
   "metadata": {},
   "outputs": [
    {
     "name": "stdout",
     "output_type": "stream",
     "text": [
      "[[1]\n",
      " [0]]\n"
     ]
    }
   ],
   "source": [
    "e2 = numpy.array([[1],[0]])\n",
    "print(e2)"
   ]
  },
  {
   "cell_type": "code",
   "execution_count": 4,
   "metadata": {},
   "outputs": [
    {
     "name": "stdout",
     "output_type": "stream",
     "text": [
      "[[1 0 0]\n",
      " [0 1 0]\n",
      " [0 0 1]]\n"
     ]
    }
   ],
   "source": [
    "I3 = numpy.array([[1, 0 , 0],[0, 1, 0],[0, 0, 1]])\n",
    "print(I3)"
   ]
  },
  {
   "cell_type": "code",
   "execution_count": 5,
   "metadata": {},
   "outputs": [
    {
     "name": "stdout",
     "output_type": "stream",
     "text": [
      "[[1 0]\n",
      " [0 1]]\n"
     ]
    }
   ],
   "source": [
    "I2 = numpy.array([[1, 0 ],[0, 1]])\n",
    "print(I2)"
   ]
  },
  {
   "cell_type": "code",
   "execution_count": 6,
   "metadata": {},
   "outputs": [
    {
     "name": "stdout",
     "output_type": "stream",
     "text": [
      "[[ 0  3  1]\n",
      " [ 0  4 -2]\n",
      " [ 2  1  2]]\n"
     ]
    }
   ],
   "source": [
    "#输入一个矩阵(3阶)\n",
    "A = numpy.array([[0, 3 , 1],[0, 4, -2],[2, 1, 2]])\n",
    "print(A)"
   ]
  },
  {
   "cell_type": "code",
   "execution_count": 7,
   "metadata": {},
   "outputs": [
    {
     "name": "stdout",
     "output_type": "stream",
     "text": [
      "b1m\n",
      "2.0\n",
      "b1\n",
      "[[0]\n",
      " [0]\n",
      " [2]]\n"
     ]
    }
   ],
   "source": [
    "#(1)对矩阵A第一列构造Householder矩阵\n",
    "b1 = numpy.array([[A[0,0]],[A[1,0]],[A[2,0]]])\n",
    "b1m = numpy.sqrt((b1**2).sum())\n",
    "print(\"b1m\")\n",
    "print(b1m)\n",
    "print(\"b1\")\n",
    "print(b1)"
   ]
  },
  {
   "cell_type": "code",
   "execution_count": 8,
   "metadata": {},
   "outputs": [
    {
     "name": "stdout",
     "output_type": "stream",
     "text": [
      "[[-2.]\n",
      " [ 0.]\n",
      " [ 2.]]\n",
      "u1\n",
      "[[-0.70710678]\n",
      " [ 0.        ]\n",
      " [ 0.70710678]]\n"
     ]
    }
   ],
   "source": [
    "a1 = b1 - b1m*e3\n",
    "print(a1)\n",
    "a1m = numpy.sqrt((a1**2).sum())\n",
    "\n",
    "u1 = numpy.array([[a1[0,0]/a1m],[a1[1,0]/a1m],[a1[2,0]/a1m]])\n",
    "print(\"u1\")\n",
    "print(u1)"
   ]
  },
  {
   "cell_type": "code",
   "execution_count": 9,
   "metadata": {},
   "outputs": [
    {
     "name": "stdout",
     "output_type": "stream",
     "text": [
      "[[2.22044605e-16 0.00000000e+00 1.00000000e+00]\n",
      " [0.00000000e+00 1.00000000e+00 0.00000000e+00]\n",
      " [1.00000000e+00 0.00000000e+00 2.22044605e-16]]\n"
     ]
    }
   ],
   "source": [
    "H1 = I3 - 2*numpy.dot(u1,u1.T)\n",
    "print(H1)"
   ]
  },
  {
   "cell_type": "code",
   "execution_count": 10,
   "metadata": {},
   "outputs": [
    {
     "name": "stdout",
     "output_type": "stream",
     "text": [
      "H1 A\n",
      "[[ 2.0000000e+00  1.0000000e+00  2.0000000e+00]\n",
      " [ 0.0000000e+00  4.0000000e+00 -2.0000000e+00]\n",
      " [ 4.4408921e-16  3.0000000e+00  1.0000000e+00]]\n"
     ]
    }
   ],
   "source": [
    "print(\"H1 A\")\n",
    "print(numpy.dot(H1,A))"
   ]
  },
  {
   "cell_type": "code",
   "execution_count": 11,
   "metadata": {},
   "outputs": [
    {
     "name": "stdout",
     "output_type": "stream",
     "text": [
      "A1\n",
      "[[ 4. -2.]\n",
      " [ 3.  1.]]\n",
      "b2m\n",
      "4.999999999999999\n",
      "b2\n",
      "[[4.]\n",
      " [3.]]\n"
     ]
    }
   ],
   "source": [
    "#(2)对矩阵A1第一列构造Householder矩阵\n",
    "M = numpy.dot(H1,A)\n",
    "A1 = numpy.array([[M[1,1],M[1,2]],[M[2,1],M[2,2]]])\n",
    "print(\"A1\")\n",
    "print(A1)\n",
    "\n",
    "b2 = numpy.array([[A1[0,0]],[A1[1,0]]])\n",
    "b2m = numpy.sqrt((b2**2).sum())\n",
    "print(\"b2m\")\n",
    "print(b2m)\n",
    "print(\"b2\")\n",
    "print(b2)"
   ]
  },
  {
   "cell_type": "code",
   "execution_count": 12,
   "metadata": {},
   "outputs": [
    {
     "name": "stdout",
     "output_type": "stream",
     "text": [
      "[[-1.]\n",
      " [ 3.]]\n",
      "u2\n",
      "[[-0.31622777]\n",
      " [ 0.9486833 ]]\n"
     ]
    }
   ],
   "source": [
    "a2 = b2 - b2m*e2\n",
    "print(a2)\n",
    "a2m = numpy.sqrt((a2**2).sum())\n",
    "\n",
    "u2 = numpy.array([[a2[0,0]/a2m],[a2[1,0]/a2m]])\n",
    "print(\"u2\")\n",
    "print(u2)"
   ]
  },
  {
   "cell_type": "code",
   "execution_count": 13,
   "metadata": {},
   "outputs": [
    {
     "name": "stdout",
     "output_type": "stream",
     "text": [
      "[[ 0.8  0.6]\n",
      " [ 0.6 -0.8]]\n"
     ]
    }
   ],
   "source": [
    "H2 = I2 - 2*numpy.dot(u2,u2.T)\n",
    "print(H2)"
   ]
  },
  {
   "cell_type": "code",
   "execution_count": 14,
   "metadata": {},
   "outputs": [
    {
     "name": "stdout",
     "output_type": "stream",
     "text": [
      "H2 A1\n",
      "[[ 5.0000000e+00 -1.0000000e+00]\n",
      " [-8.8817842e-16 -2.0000000e+00]]\n"
     ]
    }
   ],
   "source": [
    "print(\"H2 A1\")\n",
    "N = numpy.dot(H2,A1) \n",
    "print(N)"
   ]
  },
  {
   "cell_type": "code",
   "execution_count": 15,
   "metadata": {},
   "outputs": [
    {
     "name": "stdout",
     "output_type": "stream",
     "text": [
      "[[ 2.22044605e-16  0.00000000e+00  1.00000000e+00]\n",
      " [ 6.00000000e-01  8.00000000e-01  1.33226763e-16]\n",
      " [-8.00000000e-01  6.00000000e-01 -1.77635684e-16]]\n"
     ]
    }
   ],
   "source": [
    "S = numpy.dot([[1, 0, 0],[0,H2[0,0],H2[0,1]],[0,H2[1,0],H2[1,1]]],H1)\n",
    "print(S)"
   ]
  },
  {
   "cell_type": "code",
   "execution_count": 16,
   "metadata": {},
   "outputs": [
    {
     "name": "stdout",
     "output_type": "stream",
     "text": [
      "[[ 2.22044605e-16  6.00000000e-01 -8.00000000e-01]\n",
      " [ 0.00000000e+00  8.00000000e-01  6.00000000e-01]\n",
      " [ 1.00000000e+00  1.33226763e-16 -1.77635684e-16]]\n"
     ]
    }
   ],
   "source": [
    "Q = S.T\n",
    "print(Q)"
   ]
  },
  {
   "cell_type": "code",
   "execution_count": 17,
   "metadata": {},
   "outputs": [
    {
     "name": "stdout",
     "output_type": "stream",
     "text": [
      "[[ 2.0000000e+00  1.0000000e+00  2.0000000e+00]\n",
      " [ 0.0000000e+00  5.0000000e+00 -1.0000000e+00]\n",
      " [ 0.0000000e+00 -8.8817842e-16 -2.0000000e+00]]\n"
     ]
    }
   ],
   "source": [
    "R = numpy.array([[M[0,0],M[0,1],M[0,2]],[0, N[0,0],N[0,1]],[0, N[1,0],N[1,1]]])\n",
    "print(R)"
   ]
  },
  {
   "cell_type": "code",
   "execution_count": 18,
   "metadata": {},
   "outputs": [
    {
     "name": "stdout",
     "output_type": "stream",
     "text": [
      "[[ 4.4408921e-16  3.0000000e+00  1.0000000e+00]\n",
      " [ 0.0000000e+00  4.0000000e+00 -2.0000000e+00]\n",
      " [ 2.0000000e+00  1.0000000e+00  2.0000000e+00]]\n"
     ]
    }
   ],
   "source": [
    "A = numpy.dot(Q,R)\n",
    "print(A)"
   ]
  },
  {
   "cell_type": "code",
   "execution_count": null,
   "metadata": {},
   "outputs": [],
   "source": []
  }
 ],
 "metadata": {
  "kernelspec": {
   "display_name": "Python 3",
   "language": "python",
   "name": "python3"
  },
  "language_info": {
   "codemirror_mode": {
    "name": "ipython",
    "version": 3
   },
   "file_extension": ".py",
   "mimetype": "text/x-python",
   "name": "python",
   "nbconvert_exporter": "python",
   "pygments_lexer": "ipython3",
   "version": "3.6.5"
  }
 },
 "nbformat": 4,
 "nbformat_minor": 2
}
